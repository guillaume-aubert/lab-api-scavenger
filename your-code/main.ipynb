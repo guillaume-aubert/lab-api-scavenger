{
 "cells": [
  {
   "cell_type": "code",
   "execution_count": 7,
   "metadata": {},
   "outputs": [],
   "source": [
    "#Challenge 1\n",
    "import pandas as pd\n",
    "import requests\n",
    "from requests.auth import HTTPBasicAuth\n",
    "import numpy as np\n",
    "desired_width=320\n",
    "pd.set_option('display.width', desired_width)\n",
    "np.set_printoptions(linewidth=desired_width)\n",
    "pd.set_option('display.max_columns',100)"
   ]
  },
  {
   "cell_type": "code",
   "execution_count": 4,
   "metadata": {},
   "outputs": [
    {
     "data": {
      "text/plain": [
       "{'Jupyter Notebook', None}"
      ]
     },
     "execution_count": 4,
     "metadata": {},
     "output_type": "execute_result"
    }
   ],
   "source": [
    "url_repo = \"https://api.github.com/repos/ironhack-datalabs/datalis0819/forks\"\n",
    "auth = HTTPBasicAuth('guillaume-aubert','b67099f8dd152199dd77fd0f064def9418e613e4')\n",
    "\n",
    "response_repo = requests.get(url_repo, auth = auth)\n",
    "response_repo_json=response_repo.json()\n",
    "df_repo = pd.DataFrame(response_repo_json)\n",
    "set(df_repo['language'])"
   ]
  },
  {
   "cell_type": "code",
   "execution_count": 6,
   "metadata": {},
   "outputs": [
    {
     "data": {
      "text/html": [
       "<div>\n",
       "<style scoped>\n",
       "    .dataframe tbody tr th:only-of-type {\n",
       "        vertical-align: middle;\n",
       "    }\n",
       "\n",
       "    .dataframe tbody tr th {\n",
       "        vertical-align: top;\n",
       "    }\n",
       "\n",
       "    .dataframe thead th {\n",
       "        text-align: right;\n",
       "    }\n",
       "</style>\n",
       "<table border=\"1\" class=\"dataframe\">\n",
       "  <thead>\n",
       "    <tr style=\"text-align: right;\">\n",
       "      <th></th>\n",
       "      <th>commit.author.name</th>\n",
       "      <th>commit.author.date</th>\n",
       "    </tr>\n",
       "  </thead>\n",
       "  <tbody>\n",
       "    <tr>\n",
       "      <th>0</th>\n",
       "      <td>Guillaume Aubert</td>\n",
       "      <td>2020-07-06T16:14:11Z</td>\n",
       "    </tr>\n",
       "  </tbody>\n",
       "</table>\n",
       "</div>"
      ],
      "text/plain": [
       "  commit.author.name    commit.author.date\n",
       "0   Guillaume Aubert  2020-07-06T16:14:11Z"
      ]
     },
     "execution_count": 6,
     "metadata": {},
     "output_type": "execute_result"
    }
   ],
   "source": [
    "#Challenge 2\n",
    "url_mysql = \"https://api.github.com/repos/guillaume-aubert/lab-mysql-first-queries/commits?since=2020-07-01T15:31:51Z\"\n",
    "\n",
    "response_mysql = requests.get(url_mysql, auth = auth)\n",
    "response_mysql_json=response_mysql.json()\n",
    "df_mysql = pd.DataFrame(response_mysql_json)\n",
    "df_normalize =  pd.json_normalize(response_mysql_json)\n",
    "\n",
    "df= pd.DataFrame(df_normalize)\n",
    "\n",
    "number_commit=df[['commit.author.name','commit.author.date']]\n",
    "number_commit"
   ]
  },
  {
   "cell_type": "code",
   "execution_count": 8,
   "metadata": {},
   "outputs": [
    {
     "name": "stdout",
     "output_type": "stream",
     "text": [
      "The number of commits made by Guillaume is 38\n"
     ]
    }
   ],
   "source": [
    "#Personal bonus question: How many commit I made since the begining of March\n",
    "\n",
    "#creating a list to find the url of the labs commit\n",
    "url_repos_gui = \"https://api.github.com/users/guillaume-aubert/repos\"\n",
    "response_url_repos_gui = requests.get(url_repos_gui, auth = auth)\n",
    "commits_gau_json=response_url_repos_gui.json()\n",
    "df_commits_gau = pd.DataFrame(commits_gau_json)\n",
    "df_normalize_commits_gau =  pd.json_normalize(commits_gau_json)\n",
    "\n",
    "#URL data cleaning\n",
    "list_url = set(df_normalize_commits_gau['commits_url'])\n",
    "list_url = [words[:-6] for words in list_url]\n",
    "\n",
    "#Creating a function to loop over the url, extract data and merge to a single dataframe\n",
    "def loop_url(list_url):\n",
    "    number_commit = pd.DataFrame(['commit.author.name', 'commit.author.date'])\n",
    "    for x in list_url:\n",
    "        url_mysql = x\n",
    "        response_mysql = requests.get(url_mysql, auth=auth)\n",
    "        response_mysql_json = response_mysql.json()\n",
    "        df_mysql = pd.DataFrame(response_mysql_json)\n",
    "        df_normalize = pd.json_normalize(response_mysql_json)\n",
    "        df = pd.DataFrame(df_normalize)\n",
    "        number_commit = pd.concat([number_commit, df], ignore_index=True, sort=False)\n",
    "    return number_commit[['commit.author.name', 'commit.author.date']].dropna()\n",
    "\n",
    "#Create a df of all the commit\n",
    "all_commits = loop_url(list_url)\n",
    "\n",
    "#filter with the author\n",
    "conditions = all_commits['commit.author.name'] == 'Guillaume Aubert'\n",
    "total_commits=all_commits[conditions]\n",
    "\n",
    "#count the number of commits\n",
    "total_commits_counts = len(total_commits.index) + 1\n",
    "\n",
    "print (\"The number of commits made by Guillaume is\", total_commits_counts)"
   ]
  },
  {
   "cell_type": "code",
   "execution_count": null,
   "metadata": {},
   "outputs": [],
   "source": []
  }
 ],
 "metadata": {
  "kernelspec": {
   "display_name": "Python 3",
   "language": "python",
   "name": "python3"
  },
  "language_info": {
   "codemirror_mode": {
    "name": "ipython",
    "version": 3
   },
   "file_extension": ".py",
   "mimetype": "text/x-python",
   "name": "python",
   "nbconvert_exporter": "python",
   "pygments_lexer": "ipython3",
   "version": "3.7.7"
  }
 },
 "nbformat": 4,
 "nbformat_minor": 4
}
